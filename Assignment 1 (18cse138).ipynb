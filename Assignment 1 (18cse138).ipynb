{
 "cells": [
  {
   "cell_type": "code",
   "execution_count": null,
   "id": "flush-cleaner",
   "metadata": {},
   "outputs": [
    {
     "data": {
      "text/html": [
       "' enter number of students in each branch'"
      ],
      "text/latex": [
       "' enter number of students in each branch'"
      ],
      "text/markdown": [
       "' enter number of students in each branch'"
      ],
      "text/plain": [
       "[1] \" enter number of students in each branch\""
      ]
     },
     "metadata": {},
     "output_type": "display_data"
    }
   ],
   "source": [
    "\" enter number of students in each branch\"\n",
    "    {\n",
    "        cse = readline(\"Enter number of students in cse : \"); \n",
    "        cst = readline(\"Enter number of students in cst  : \"); \n",
    "        ece = readline(\"Enter number of students in ece : \"); \n",
    "        mech = readline(\"Enter number of students in mech : \");\n",
    "        bio = readline(\"Enter number of students in bio: \");\n",
    "    }\n",
    "\n",
    "    cse = as.integer(cse); \n",
    "    cst = as.integer(cst); \n",
    "    ece = as.integer(ece); \n",
    "    mech = as.integer(mech);\n",
    "    bio = as.integer(bio);\n",
    "\n",
    "    sum = cse+cst+ece+mech+bio;\n"
   ]
  },
  {
   "cell_type": "code",
   "execution_count": null,
   "id": "short-enzyme",
   "metadata": {},
   "outputs": [],
   "source": [
    " \"sum of all students \"\n",
    "    sum;\n",
    "\n",
    "    CSE=(cse/sum)*100;\n",
    "    CSE;\n",
    "    CST=(cst/sum)*100;\n",
    "    CST;\n",
    "    ECE=(ece/sum)*100;\n",
    "    ECE;\n",
    "    MECH=(mech/sum)*100;\n",
    "    MECH;\n",
    "    BIO=(bio/sum)*100;\n",
    "    BIO;\n"
   ]
  },
  {
   "cell_type": "code",
   "execution_count": null,
   "id": "cooperative-better",
   "metadata": {},
   "outputs": [],
   "source": [
    "# Create a vector of pies\n",
    "x <- c(CSE,CST,ECE,MECH,BIO)"
   ]
  },
  {
   "cell_type": "code",
   "execution_count": null,
   "id": "executed-absolute",
   "metadata": {},
   "outputs": [],
   "source": [
    "# Create a vector of labels\n",
    "mylabel <- c(\"CSE\", \"CST\", \"ECE\", \"MECH\",\"BIO\")"
   ]
  },
  {
   "cell_type": "code",
   "execution_count": null,
   "id": "backed-pearl",
   "metadata": {},
   "outputs": [],
   "source": [
    "# Display the pie chart with labels\n",
    "pie(x, label = mylabel, main = \"BRANCHES\")"
   ]
  }
 ],
 "metadata": {
  "kernelspec": {
   "display_name": "R",
   "language": "R",
   "name": "ir"
  },
  "language_info": {
   "codemirror_mode": "r",
   "file_extension": ".r",
   "mimetype": "text/x-r-source",
   "name": "R",
   "pygments_lexer": "r",
   "version": "3.6.1"
  }
 },
 "nbformat": 4,
 "nbformat_minor": 5
}
